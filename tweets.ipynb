{
 "cells": [
  {
   "cell_type": "code",
   "execution_count": 3,
   "id": "adapted-sussex",
   "metadata": {},
   "outputs": [],
   "source": [
    "import os\n",
    "import pandas as pd\n",
    "import matplotlib.pyplot as plt\n",
    "import seaborn as sns\n",
    "import itertools\n",
    "import collections\n",
    "\n",
    "import tweepy as tw\n",
    "import nltk\n",
    "from nltk.corpus import stopwords\n",
    "import re\n",
    "\n",
    "import warnings\n",
    "warnings.filterwarnings(\"ignore\")\n",
    "\n",
    "sns.set(font_scale=1.5)\n",
    "sns.set_style(\"whitegrid\")"
   ]
  },
  {
   "cell_type": "code",
   "execution_count": 5,
   "id": "several-dallas",
   "metadata": {},
   "outputs": [],
   "source": [
    "# nltk.download('stopwords')"
   ]
  },
  {
   "cell_type": "code",
   "execution_count": 29,
   "id": "promotional-glenn",
   "metadata": {},
   "outputs": [],
   "source": [
    "with open('twitterAPI.txt','r') as keys:\n",
    "    key = keys.read()\n",
    "keys = key.split('\\n')\n",
    "\n",
    "CONSUMER_KEY = keys[0].split('=')[1]\n",
    "CONSUMER_SECRET = keys[1].split('=')[1]\n",
    "ACCESS_TOKEN = keys[2].split('=')[1]\n",
    "ACCESS_TOKEN_SECRET = keys[3].split('=')[1]"
   ]
  },
  {
   "cell_type": "code",
   "execution_count": 31,
   "id": "tutorial-delay",
   "metadata": {},
   "outputs": [],
   "source": [
    "auth = tweepy.OAuthHandler(CONSUMER_KEY, CONSUMER_SECRET)\n",
    "auth.set_access_token(ACCESS_TOKEN, ACCESS_TOKEN_SECRET)\n",
    "api = tweepy.API(auth)"
   ]
  },
  {
   "cell_type": "code",
   "execution_count": 124,
   "id": "western-general",
   "metadata": {},
   "outputs": [],
   "source": [
    "search_words = \"Kapolri\" + \" -filter:retweets\"\n",
    "date_since = \"2021-04-01\""
   ]
  },
  {
   "cell_type": "code",
   "execution_count": 126,
   "id": "hydraulic-reliance",
   "metadata": {},
   "outputs": [],
   "source": [
    "# Collect tweets\n",
    "tweets = tweepy.Cursor(api.search,\n",
    "              q=search_words,\n",
    "              lang=\"id\",\n",
    "              since=date_since).items(1000)\n",
    "\n",
    "# Iterate and print tweets\n",
    "all_tweets = [tweet.text for tweet in tweets]"
   ]
  },
  {
   "cell_type": "code",
   "execution_count": 107,
   "id": "shaped-necklace",
   "metadata": {},
   "outputs": [],
   "source": [
    "def remove_url(txt):\n",
    "    \n",
    "    return \" \".join(re.sub(\"([^0-9A-Za-z \\t])|(\\w+:\\/\\/\\S+)\", \"\", txt).split())"
   ]
  },
  {
   "cell_type": "code",
   "execution_count": 127,
   "id": "massive-embassy",
   "metadata": {},
   "outputs": [
    {
     "data": {
      "text/plain": [
       "['Diam2 menghayutkan kira2 begitu Telegram Kapolri yang masyarakat tangkap',\n",
       " 'Kapolri labil ih',\n",
       " 'Kapolri',\n",
       " 'Yth Bpk Kapolri mohon agar lebih serius menertibkan manusia2 perusak keberagaman di NKRI laporan PKB ke Polri seja',\n",
       " 'Didampingi Kapolri Panglima TNI Letakan Batu Pertama Pembangunan Mako Guspurla Koarmada I Di Natuna']"
      ]
     },
     "execution_count": 127,
     "metadata": {},
     "output_type": "execute_result"
    }
   ],
   "source": [
    "all_tweets_no_urls = [remove_url(tweet) for tweet in all_tweets]\n",
    "all_tweets_no_urls[:5]"
   ]
  },
  {
   "cell_type": "code",
   "execution_count": 131,
   "id": "incredible-candidate",
   "metadata": {},
   "outputs": [],
   "source": [
    "words_in_tweet = [list(set(tweet.lower().split())) for tweet in all_tweets_no_urls]\n",
    "stop_words = set(stopwords.words('indonesian'))\n",
    "tweets_nsw = [[word for word in tweet_words if not word in stop_words]\n",
    "              for tweet_words in words_in_tweet]\n",
    "collection_words = ['kapolri']\n",
    "tweets_nsw_nc = [[w for w in word if not w in collection_words]\n",
    "                 for word in tweets_nsw]"
   ]
  },
  {
   "cell_type": "code",
   "execution_count": 132,
   "id": "lesbian-smith",
   "metadata": {},
   "outputs": [
    {
     "data": {
      "text/plain": [
       "[('telegram', 350),\n",
       " ('media', 261),\n",
       " ('larangan', 139),\n",
       " ('cabut', 135),\n",
       " ('kekerasan', 126),\n",
       " ('polisi', 117),\n",
       " ('surat', 108),\n",
       " ('yg', 79),\n",
       " ('arogansi', 74),\n",
       " ('listyo', 68),\n",
       " ('sigit', 63),\n",
       " ('larang', 62),\n",
       " ('dicabut', 62),\n",
       " ('polri', 61),\n",
       " ('aparat', 53)]"
      ]
     },
     "execution_count": 132,
     "metadata": {},
     "output_type": "execute_result"
    }
   ],
   "source": [
    "# Flatten list of words in clean tweets\n",
    "all_words_nsw_nc = list(itertools.chain(*tweets_nsw_nc))\n",
    "\n",
    "# Create counter of words in clean tweets\n",
    "counts_nsw_nc = collections.Counter(all_words_nsw_nc)\n",
    "\n",
    "counts_nsw_nc.most_common(15)"
   ]
  },
  {
   "cell_type": "code",
   "execution_count": 140,
   "id": "genuine-fireplace",
   "metadata": {},
   "outputs": [
    {
     "data": {
      "text/html": [
       "<div>\n",
       "<style scoped>\n",
       "    .dataframe tbody tr th:only-of-type {\n",
       "        vertical-align: middle;\n",
       "    }\n",
       "\n",
       "    .dataframe tbody tr th {\n",
       "        vertical-align: top;\n",
       "    }\n",
       "\n",
       "    .dataframe thead th {\n",
       "        text-align: right;\n",
       "    }\n",
       "</style>\n",
       "<table border=\"1\" class=\"dataframe\">\n",
       "  <thead>\n",
       "    <tr style=\"text-align: right;\">\n",
       "      <th></th>\n",
       "      <th>words</th>\n",
       "      <th>count</th>\n",
       "    </tr>\n",
       "  </thead>\n",
       "  <tbody>\n",
       "    <tr>\n",
       "      <th>0</th>\n",
       "      <td>telegram</td>\n",
       "      <td>350</td>\n",
       "    </tr>\n",
       "    <tr>\n",
       "      <th>1</th>\n",
       "      <td>media</td>\n",
       "      <td>261</td>\n",
       "    </tr>\n",
       "    <tr>\n",
       "      <th>2</th>\n",
       "      <td>larangan</td>\n",
       "      <td>139</td>\n",
       "    </tr>\n",
       "    <tr>\n",
       "      <th>3</th>\n",
       "      <td>cabut</td>\n",
       "      <td>135</td>\n",
       "    </tr>\n",
       "    <tr>\n",
       "      <th>4</th>\n",
       "      <td>kekerasan</td>\n",
       "      <td>126</td>\n",
       "    </tr>\n",
       "  </tbody>\n",
       "</table>\n",
       "</div>"
      ],
      "text/plain": [
       "       words  count\n",
       "0   telegram    350\n",
       "1      media    261\n",
       "2   larangan    139\n",
       "3      cabut    135\n",
       "4  kekerasan    126"
      ]
     },
     "execution_count": 140,
     "metadata": {},
     "output_type": "execute_result"
    }
   ],
   "source": [
    "clean_tweets_ncw = pd.DataFrame(counts_nsw_nc.most_common(),\n",
    "                             columns=['words', 'count'])\n",
    "clean_tweets_ncw.head()"
   ]
  },
  {
   "cell_type": "code",
   "execution_count": 142,
   "id": "mobile-triangle",
   "metadata": {},
   "outputs": [],
   "source": [
    "to_plot = clean_tweets_ncw.copy().head(15)"
   ]
  },
  {
   "cell_type": "code",
   "execution_count": 143,
   "id": "polar-character",
   "metadata": {},
   "outputs": [
    {
     "data": {
      "image/png": "[encoded data removed]",
      "text/plain": [
       "<Figure size 576x576 with 1 Axes>"
      ]
     },
     "metadata": {},
     "output_type": "display_data"
    }
   ],
   "source": [
    "fig, ax = plt.subplots(figsize=(8, 8))\n",
    "\n",
    "# Plot horizontal bar graph\n",
    "to_plot.sort_values(by='count').plot.barh(x='words',\n",
    "                      y='count',\n",
    "                      ax=ax,\n",
    "                      color=\"purple\")\n",
    "\n",
    "ax.set_title(\"Common Words Found in Tweets (Without Stop or Collection Words)\")\n",
    "\n",
    "plt.show()"
   ]
  },
  {
   "cell_type": "code",
   "execution_count": 145,
   "id": "miniature-extent",
   "metadata": {},
   "outputs": [],
   "source": [
    "# clean_tweets_ncw.to_csv('words.csv')"
   ]
  }
 ],
 "metadata": {
  "kernelspec": {
   "display_name": "Python 3",
   "language": "python",
   "name": "python3"
  },
  "language_info": {
   "codemirror_mode": {
    "name": "ipython",
    "version": 3
   },
   "file_extension": ".py",
   "mimetype": "text/x-python",
   "name": "python",
   "nbconvert_exporter": "python",
   "pygments_lexer": "ipython3",
   "version": "3.9.2"
  }
 },
 "nbformat": 4,
 "nbformat_minor": 5
}
